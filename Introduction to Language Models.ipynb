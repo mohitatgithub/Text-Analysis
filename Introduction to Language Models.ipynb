{
 "cells": [
  {
   "cell_type": "markdown",
   "metadata": {},
   "source": [
    "## Introduction to Language Models"
   ]
  },
  {
   "cell_type": "markdown",
   "metadata": {},
   "source": [
    "Language Modelling is an important idea behind many Natural Language Processing tasks such as Machine Translation, Spelling Correction, Speech Recognition, Summerization, Question-Answering etc. Some recent applications of Language models involve Smart Reply in Gmail & Google Text suggestion in SMS. This introduction is mostly inspired by Chapter 4 'Language Modeling with N-grams' of book: \"Speech and Language Processing\" by Daniel Jurafsky & James H. Marti <sup>[[1]](https://web.stanford.edu/~jurafsky/slp3/)</sup>"
   ]
  },
  {
   "cell_type": "markdown",
   "metadata": {},
   "source": [
    "### What is a Language Model?"
   ]
  },
  {
   "cell_type": "markdown",
   "metadata": {},
   "source": [
    "Basically Language Model assigns a probability to a sentence or a sequence of words. so given a sequence of words $w_1,w_2,w_3,w_4,w_5,...,w_n$\n",
    "\n",
    "Probability $P(W)$ of this sequence of words will be:\n",
    "\n",
    "#### <center>$P(W) = P(w_1,w_2,w_3,w_4,w_5,...,w_n)$</center>\n",
    "\n",
    "We can also calculate conditional probability of last word given previous words as:\n",
    "\n",
    "#### <center>$P(w_n) = P(w_n\\, | \\,w_1,w_2,w_3,w_4,w_5,...,w_n-1)$</center>\n",
    "\n",
    "\n",
    "Lets take an example of sentence \"weather is pleasant\". Probability of this sentence will be expressed as:\n",
    "\n",
    "#### <center>$P(\"weather\\, is\\, pleasent\") = P(weather)\\, \\times \\,P(is\\, | \\,weather)\\, \\times \\,P(pleasent\\, | \\,weather\\, is)$</center>\n",
    "\n",
    "Formally this can be expresed as:\n",
    "\n",
    "#### <center>$P(w_1,w_2,w_3,w_4,w_5,...,w_n) = \\prod_{i=1}^n\\, P(w_i\\, | \\,w_1,w_2,w_3,w_4,w_5,...,w_i-1)$</center>\n",
    "\n",
    "But how do we calculate this probability?\n"
   ]
  },
  {
   "cell_type": "markdown",
   "metadata": {},
   "source": [
    "### Markov Assumption"
   ]
  },
  {
   "cell_type": "markdown",
   "metadata": {},
   "source": [
    "Andrey Markov was a Russian mathematician who described a stochastic process with a property called Markov Property or Markov Assumption. This basically states that one can make predictions for the future of the process based solely on its present state just as well as one could knowing the process's full history, hence independently from such history.<sup>[[2]](https://en.wikipedia.org/wiki/Markov_property)</sup>\n",
    "\n",
    "Based on this assumption we can rewrite probability of 'pleasent' as:\n",
    "\n",
    "#### <center>$P(pleasent\\, | \\,weather\\, is) \\approx P(pleasent\\, | \\,weather)$</center>\n",
    "\n",
    "Or formally as:\n",
    "\n",
    "#### <center>$P(w_n\\, | \\,w_1,w_2,w_3,w_4,w_5,...,w_n-1) = P(w_n\\, | \\,w_n-1)$</center>\n",
    "\n",
    "Above equation also represent a Bigram<sup>[[3]](https://en.wikipedia.org/wiki/Bigram)</sup> model. In case of N-gram models this assumption can be extended such that conditional probability may depend on couple of previous words as:\n",
    "\n",
    "#### <center>$P(w_n\\, | \\,w_1,w_2,w_3,w_4,w_5,...,w_n-1) = P(w_n\\, | \\,w_n-k,...,w_n-1)$</center>\n"
   ]
  },
  {
   "cell_type": "markdown",
   "metadata": {},
   "source": [
    "### Bigram Model"
   ]
  },
  {
   "cell_type": "markdown",
   "metadata": {},
   "source": [
    "Now lets find probability for simplest model where conditional probability of any word only depends on previous word by Markov assumption.\n",
    "\n",
    "#### <center>$P(w_i\\,|\\,w_i-1) = \\frac{count(w_i-1,w_i)}{count(w_i-1)}$</center>\n",
    "\n",
    "Lets understand this with a small corpus of famous poem 'A Girl' by Ezra Pound<br><br>\n",
    "\n",
    "<center>\n",
    "_The tree has entered **my hands**,<br>\n",
    "The sap has ascended **my arms**,<br>\n",
    "The tree has grown in **my breast-Downward**,<br>\n",
    "The branches grow out of me, like arms.<br>\n",
    "\n",
    "Tree you are,<br>\n",
    "Moss you are,<br>\n",
    "You are violets with wind above them.<br>\n",
    "A child - so high - you are,<br>\n",
    "And all this is folly to the world._<br>\n",
    "</center>\n",
    "\n",
    "Here Probability of 'arms' given 'my' is:\n",
    "#### <center>$P(arms\\, |\\, my) = \\frac{1}{3}$</center>\n",
    "\n",
    "To calculate probability of first & last word `<s>` & `<\\s>` are added at start & end of sentence respectively. Similarly probability of sentence or sequence of words can be calculated using above approach."
   ]
  },
  {
   "cell_type": "markdown",
   "metadata": {},
   "source": [
    "### Applications of Language Models"
   ]
  },
  {
   "cell_type": "markdown",
   "metadata": {},
   "source": [
    "**1. Spelling Correction**\n",
    "\n",
    "For spelling correction probability of incorrect sentence will be much smaller then correct sentence\n",
    "\n",
    "#### <center>$P(weather\\, is\\, \\mathbf{pleasent}) > P(weather\\, is\\, \\mathbf{plesen})$</center>\n",
    "\n",
    "**2. Speech Recognition**\n",
    "\n",
    "As words 'weather' & 'whether' may have similar phonetics, system may confuse among these but probability of 'weather is pleasent' will be higher than 'whether is pleasent'\n",
    "\n",
    "#### <center>$P(\\mathbf{weather}\\, is\\, pleasent) > P(\\mathbf{whether}\\, is\\, pleasent)$</center>\n",
    "\n",
    "**3. Machine Translation**\n",
    "\n",
    "Selecting appropriate sequence while translating from one language to another can also use probability of sequence for providing more appropriate translations \n",
    "\n",
    "#### <center>$P(\\mathbf{high}\\, winds\\, tonight) > P(\\mathbf{large}\\, winds\\, tonight)$</center>\n",
    "\n",
    "**4. Gmail Smart Reply**\n",
    "\n",
    "Complete details of this system are discussed in this paper: \"Smart Reply: Automated Response Suggestion for Email\"   <sup>[[4]](https://static.googleusercontent.com/media/research.google.com/en//pubs/archive/45189.pdf)</sup>\n",
    "\n",
    "<center><img src=\"smart_reply.png\">\n",
    "[Image Source](https://blog.google/products/gmail/save-time-with-smart-reply-in-gmail/)</center>\n",
    "\n",
    "**5. Predictive Text**\n",
    "\n",
    "By looking at previous sequence of words language model can predict next word, this feature was recently introduced in android phone keyboard by Google. \n",
    "<br><br>\n",
    "\n",
    "<center><img src=\"predictive_text.png\" style=\"width:460px;height:190px;\"></center>\n",
    "\n",
    "Now lets build our own language model for predicting next word using a very small corpus of words. I will build this model using keras & deep neural network architecture with LSTM. \n"
   ]
  },
  {
   "cell_type": "markdown",
   "metadata": {},
   "source": [
    "### Building Language Model"
   ]
  },
  {
   "cell_type": "markdown",
   "metadata": {},
   "source": [
    "As Language modeling involves predicting the next word in a sequence given the sequence of words already present we can train a language model to create subsequent words in sequence from given starting sequence.\n",
    "\n",
    "Sequence Models or Recurrent neural networks, or RNNs<sup>[[5]](http://www.dtic.mil/get-tr-doc/pdf?AD=ADA164453)</sup> are a family of neural networks for processing sequential data. A detailed discussion on Sequence Models is provided in Chapter 10 of Deep Learning Book. <sup>[[6]](http://www.deeplearningbook.org/contents/rnn.html)</sup>\n",
    "\n",
    "Language model design discussed below is inspired by this insightful article: [How to Develop Word-Based Neural Language Models in Python with Keras](https://machinelearningmastery.com/develop-word-based-neural-language-models-python-keras/) by Jason Brownlee.\n",
    "\n",
    "For this language model I will use part of the poem \"This Is the House That Jack Built\" <sup>[[7]](https://en.wikipedia.org/wiki/This_Is_the_House_That_Jack_Built)</sup> as training corpus."
   ]
  },
  {
   "cell_type": "markdown",
   "metadata": {},
   "source": [
    "**_This Is the House That Jack Build_**"
   ]
  },
  {
   "cell_type": "code",
   "execution_count": 1,
   "metadata": {
    "collapsed": true
   },
   "outputs": [],
   "source": [
    "data = \"\"\" This is the house that Jack built.\\n\n",
    "This is the malt that lay in the house that Jack built.\\n\n",
    "This is the rat that ate the malt\\n\n",
    "That lay in the house that Jack built.\\n\n",
    "This is the cat that killed the rat\\n\n",
    "That ate the malt that lay in the house that Jack built.\\n\n",
    "This is the dog that worried the cat\\n\n",
    "That killed the rat that ate the malt\\n\n",
    "That lay in the house that Jack built.\\n\n",
    "This is the cow with the crumpled horn\\n \"\"\""
   ]
  },
  {
   "cell_type": "markdown",
   "metadata": {},
   "source": [
    "_Importing Packages_"
   ]
  },
  {
   "cell_type": "code",
   "execution_count": 2,
   "metadata": {
    "collapsed": false
   },
   "outputs": [
    {
     "name": "stderr",
     "output_type": "stream",
     "text": [
      "/home/mohit/anaconda3/lib/python3.6/site-packages/h5py/__init__.py:36: FutureWarning: Conversion of the second argument of issubdtype from `float` to `np.floating` is deprecated. In future, it will be treated as `np.float64 == np.dtype(float).type`.\n",
      "  from ._conv import register_converters as _register_converters\n",
      "Using TensorFlow backend.\n"
     ]
    }
   ],
   "source": [
    "from numpy import array\n",
    "from keras.preprocessing.text import Tokenizer\n",
    "from keras.utils import to_categorical\n",
    "from keras.models import Sequential\n",
    "from keras.layers import Dense\n",
    "from keras.layers import LSTM\n",
    "from keras.layers import Embedding\n",
    "from keras.utils.vis_utils import plot_model\n",
    "from keras_tqdm import TQDMNotebookCallback\n",
    "import matplotlib.pyplot as plt\n",
    "import os\n",
    "os.environ['TF_CPP_MIN_LOG_LEVEL'] = '3' "
   ]
  },
  {
   "cell_type": "markdown",
   "metadata": {},
   "source": [
    "_Procedure to generate sequence_"
   ]
  },
  {
   "cell_type": "code",
   "execution_count": 3,
   "metadata": {
    "collapsed": true
   },
   "outputs": [],
   "source": [
    "def generate_seq(model, tokenizer, seed_text, n_words):\n",
    "\tin_text, result = seed_text, seed_text\n",
    "\t# generate a fixed number of words\n",
    "\tfor _ in range(n_words):\n",
    "\t\t# encode the text as integer\n",
    "\t\tencoded = tokenizer.texts_to_sequences([in_text])[0]\n",
    "\t\tencoded = array(encoded)\n",
    "\t\t# predict a word in the vocabulary\n",
    "\t\tyhat = model.predict_classes(encoded, verbose=0)\n",
    "\t\t# map predicted word index to word\n",
    "\t\tout_word = ''\n",
    "\t\tfor word, index in tokenizer.word_index.items():\n",
    "\t\t\tif index == yhat:\n",
    "\t\t\t\tout_word = word\n",
    "\t\t\t\tbreak\n",
    "\t\t# append to input\n",
    "\t\tin_text, result = out_word, result + ' ' + out_word\n",
    "\treturn result"
   ]
  },
  {
   "cell_type": "markdown",
   "metadata": {},
   "source": [
    "_Integer encoding of text_"
   ]
  },
  {
   "cell_type": "code",
   "execution_count": 4,
   "metadata": {
    "collapsed": false
   },
   "outputs": [
    {
     "name": "stdout",
     "output_type": "stream",
     "text": [
      "Word to Interger mapping of first 6 words:\n",
      "\n",
      "This 3\n",
      "is 4\n",
      "the 1\n",
      "house 5\n",
      "that 2\n",
      "Jack 6\n"
     ]
    }
   ],
   "source": [
    "tokenizer = Tokenizer()\n",
    "tokenizer.fit_on_texts([data])\n",
    "encoded = tokenizer.texts_to_sequences([data])[0]\n",
    "\n",
    "tokens = data.split(\" \")\n",
    "print(\"Word to Interger mapping of first 6 words:\\n\")\n",
    "for i in range(6):\n",
    "    print(tokens[i+1],encoded[i])"
   ]
  },
  {
   "cell_type": "markdown",
   "metadata": {},
   "source": [
    "_Determining the vocabulary size_"
   ]
  },
  {
   "cell_type": "code",
   "execution_count": 5,
   "metadata": {
    "collapsed": false
   },
   "outputs": [
    {
     "name": "stdout",
     "output_type": "stream",
     "text": [
      "Vocabulary Size: 21\n"
     ]
    }
   ],
   "source": [
    "vocab_size = len(tokenizer.word_index) + 1\n",
    "print('Vocabulary Size: %d' % vocab_size)"
   ]
  },
  {
   "cell_type": "markdown",
   "metadata": {},
   "source": [
    "_Creating sequences of words to fit the model with one word as input and one word as output_"
   ]
  },
  {
   "cell_type": "code",
   "execution_count": 6,
   "metadata": {
    "collapsed": false
   },
   "outputs": [
    {
     "name": "stdout",
     "output_type": "stream",
     "text": [
      "Total Sequences: 86\n",
      "Forst 10 Sequences:  [[3, 4], [4, 1], [1, 5], [5, 2], [2, 6], [6, 7], [7, 3], [3, 4], [4, 1], [1, 8]]\n"
     ]
    }
   ],
   "source": [
    "sequences = list()\n",
    "for i in range(1, len(encoded)):\n",
    "\tsequence = encoded[i-1:i+1]\n",
    "\tsequences.append(sequence)\n",
    "print('Total Sequences: %d' % len(sequences))\n",
    "print('Forst 10 Sequences: ',sequences[:10])"
   ]
  },
  {
   "cell_type": "code",
   "execution_count": 7,
   "metadata": {
    "collapsed": false
   },
   "outputs": [
    {
     "name": "stdout",
     "output_type": "stream",
     "text": [
      "Firt 5 Sequence Outputs\n",
      "[4 1 5 2 6]\n",
      "\n",
      "Their One Hot encodings:\n",
      "[[0. 0. 0. 0. 1. 0. 0. 0. 0. 0. 0. 0. 0. 0. 0. 0. 0. 0. 0. 0. 0.]\n",
      " [0. 1. 0. 0. 0. 0. 0. 0. 0. 0. 0. 0. 0. 0. 0. 0. 0. 0. 0. 0. 0.]\n",
      " [0. 0. 0. 0. 0. 1. 0. 0. 0. 0. 0. 0. 0. 0. 0. 0. 0. 0. 0. 0. 0.]\n",
      " [0. 0. 1. 0. 0. 0. 0. 0. 0. 0. 0. 0. 0. 0. 0. 0. 0. 0. 0. 0. 0.]\n",
      " [0. 0. 0. 0. 0. 0. 1. 0. 0. 0. 0. 0. 0. 0. 0. 0. 0. 0. 0. 0. 0.]]\n"
     ]
    }
   ],
   "source": [
    "sequences = array(sequences)\n",
    "X, y = sequences[:,0],sequences[:,1]\n",
    "print(\"Firt 5 Sequence Outputs\")\n",
    "print(y[:5])\n",
    "\n",
    "y = to_categorical(y, num_classes=vocab_size)\n",
    "print(\"\\nTheir One Hot encodings:\")\n",
    "print(y[:5])"
   ]
  },
  {
   "cell_type": "markdown",
   "metadata": {},
   "source": [
    "_Building Model_"
   ]
  },
  {
   "cell_type": "code",
   "execution_count": 8,
   "metadata": {
    "collapsed": false
   },
   "outputs": [
    {
     "name": "stdout",
     "output_type": "stream",
     "text": [
      "WARNING:tensorflow:From /home/mohit/anaconda3/lib/python3.6/site-packages/keras/backend/tensorflow_backend.py:1238: calling reduce_sum (from tensorflow.python.ops.math_ops) with keep_dims is deprecated and will be removed in a future version.\n",
      "Instructions for updating:\n",
      "keep_dims is deprecated, use keepdims instead\n"
     ]
    }
   ],
   "source": [
    "model = Sequential()\n",
    "model.add(Embedding(vocab_size, 10, input_length=1))\n",
    "model.add(LSTM(50))\n",
    "model.add(Dense(vocab_size, activation='softmax'))"
   ]
  },
  {
   "cell_type": "markdown",
   "metadata": {},
   "source": [
    "_Model Architecture_"
   ]
  },
  {
   "cell_type": "code",
   "execution_count": 9,
   "metadata": {
    "collapsed": false
   },
   "outputs": [
    {
     "name": "stdout",
     "output_type": "stream",
     "text": [
      "_________________________________________________________________\n",
      "Layer (type)                 Output Shape              Param #   \n",
      "=================================================================\n",
      "embedding_1 (Embedding)      (None, 1, 10)             210       \n",
      "_________________________________________________________________\n",
      "lstm_1 (LSTM)                (None, 50)                12200     \n",
      "_________________________________________________________________\n",
      "dense_1 (Dense)              (None, 21)                1071      \n",
      "=================================================================\n",
      "Total params: 13,481\n",
      "Trainable params: 13,481\n",
      "Non-trainable params: 0\n",
      "_________________________________________________________________\n",
      "None\n"
     ]
    }
   ],
   "source": [
    "print(model.summary())\n",
    "plot_model(model, to_file='model_plot.png', show_shapes=True, show_layer_names=True)"
   ]
  },
  {
   "cell_type": "markdown",
   "metadata": {},
   "source": [
    "<center><img src=\"model_plot.png\"></center>"
   ]
  },
  {
   "cell_type": "code",
   "execution_count": 10,
   "metadata": {
    "collapsed": false
   },
   "outputs": [
    {
     "name": "stdout",
     "output_type": "stream",
     "text": [
      "WARNING:tensorflow:From /home/mohit/anaconda3/lib/python3.6/site-packages/keras/backend/tensorflow_backend.py:1340: calling reduce_mean (from tensorflow.python.ops.math_ops) with keep_dims is deprecated and will be removed in a future version.\n",
      "Instructions for updating:\n",
      "keep_dims is deprecated, use keepdims instead\n"
     ]
    }
   ],
   "source": [
    "model.compile(loss='categorical_crossentropy', optimizer='adam', metrics=['accuracy'])"
   ]
  },
  {
   "cell_type": "code",
   "execution_count": 11,
   "metadata": {
    "collapsed": false
   },
   "outputs": [
    {
     "name": "stdout",
     "output_type": "stream",
     "text": [
      "\n"
     ]
    }
   ],
   "source": [
    "history = model.fit(X, y, epochs=500, verbose=0, callbacks=[TQDMNotebookCallback()])"
   ]
  },
  {
   "cell_type": "markdown",
   "metadata": {},
   "source": [
    "_Finally lets generate sequence of 6 words by providing only first letter for sequence_"
   ]
  },
  {
   "cell_type": "code",
   "execution_count": 12,
   "metadata": {
    "collapsed": false
   },
   "outputs": [
    {
     "name": "stdout",
     "output_type": "stream",
     "text": [
      "This is the house that jack built\n"
     ]
    }
   ],
   "source": [
    "print(generate_seq(model, tokenizer, 'This', 6))"
   ]
  },
  {
   "cell_type": "markdown",
   "metadata": {},
   "source": [
    "As expected the model generated the most plausible line based on training corpus."
   ]
  },
  {
   "cell_type": "markdown",
   "metadata": {},
   "source": [
    "_Accuracy & Loss Plots_"
   ]
  },
  {
   "cell_type": "code",
   "execution_count": 13,
   "metadata": {
    "collapsed": false
   },
   "outputs": [
    {
     "data": {
      "image/png": "[encoded data removed]",
      "text/plain": [
       "<matplotlib.figure.Figure at 0x7fbbb94d8358>"
      ]
     },
     "metadata": {},
     "output_type": "display_data"
    }
   ],
   "source": [
    "plt.plot(history.history['acc'])\n",
    "plt.title('model accuracy')\n",
    "plt.ylabel('accuracy')\n",
    "plt.xlabel('epoch')\n",
    "plt.legend(['train', 'test'], loc='upper left')\n",
    "plt.show()"
   ]
  },
  {
   "cell_type": "code",
   "execution_count": 14,
   "metadata": {
    "collapsed": false
   },
   "outputs": [
    {
     "data": {
      "image/png": "[encoded data removed]",
      "text/plain": [
       "<matplotlib.figure.Figure at 0x7fbbb9483080>"
      ]
     },
     "metadata": {},
     "output_type": "display_data"
    }
   ],
   "source": [
    "plt.plot(history.history['loss'])\n",
    "plt.title('model loss')\n",
    "plt.ylabel('loss')\n",
    "plt.xlabel('epoch')\n",
    "plt.legend(['train', 'test'], loc='upper right')\n",
    "plt.show()"
   ]
  },
  {
   "cell_type": "markdown",
   "metadata": {},
   "source": [
    "### Refrences"
   ]
  },
  {
   "cell_type": "markdown",
   "metadata": {},
   "source": [
    "1. Jurafsky, Dan. Speech & language processing. Pearson Education India, 2000.\n",
    "2. https://en.wikipedia.org/wiki/Markov_property\n",
    "3. https://en.wikipedia.org/wiki/Bigram\n",
    "4. Kannan, Anjuli, et al. \"Smart reply: Automated response suggestion for email.\" Proceedings of the 22nd ACM SIGKDD International Conference on Knowledge Discovery and Data Mining. ACM, 2016.\n",
    "5. Rumelhart, David E., Geoffrey E. Hinton, and Ronald J. Williams. Learning internal representations by error propagation. No. ICS-8506. California Univ San Diego La Jolla Inst for Cognitive Science, 1985.\n",
    "6. https://en.wikipedia.org/wiki/This_Is_the_House_That_Jack_Built\n",
    "7. http://www.deeplearningbook.org/contents/rnn.html\n",
    "8. https://machinelearningmastery.com/develop-word-based-neural-language-models-python-keras/\n"
   ]
  },
  {
   "cell_type": "markdown",
   "metadata": {},
   "source": [
    "_Thanks for reading this notebook. I am also learning NLP & not an expert in this field. Feel free to provide your feedback on errors & improvements._"
   ]
  }
 ],
 "metadata": {
  "kernelspec": {
   "display_name": "Python 3",
   "language": "python",
   "name": "python3"
  },
  "language_info": {
   "codemirror_mode": {
    "name": "ipython",
    "version": 3
   },
   "file_extension": ".py",
   "mimetype": "text/x-python",
   "name": "python",
   "nbconvert_exporter": "python",
   "pygments_lexer": "ipython3",
   "version": "3.6.0"
  },
  "widgets": {
   "state": {
    "b1f4ee8dfd23462595cb3793e4b23daf": {
     "views": [
      {
       "cell_index": 31
      }
     ]
    }
   },
   "version": "1.2.0"
  }
 },
 "nbformat": 4,
 "nbformat_minor": 2
}
