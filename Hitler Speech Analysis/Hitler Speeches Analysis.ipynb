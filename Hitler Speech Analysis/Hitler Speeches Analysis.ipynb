{
 "cells": [
  {
   "cell_type": "markdown",
   "metadata": {},
   "source": [
    "#### Introduction\n",
    "This is a fun excercise where I will use Markov Chain model to generate random Hitler speech snippets using existing dataset of hitler speeches. I will also do a detailed analysis of speeches using nltk."
   ]
  },
  {
   "cell_type": "markdown",
   "metadata": {},
   "source": [
    "<center>\n",
    "<img src=\"hitler.jpg\" width=300px>\n",
    "<br>\n",
    "</center>"
   ]
  },
  {
   "cell_type": "code",
   "execution_count": 1,
   "metadata": {},
   "outputs": [],
   "source": [
    "import markovify\n",
    "import pandas as pd\n",
    "import re\n",
    "from time import time\n",
    "import nltk\n",
    "nltk.data.path.append(\"/media/newhd/PyScripts/nltk\")"
   ]
  },
  {
   "cell_type": "markdown",
   "metadata": {},
   "source": [
    "Reading Data"
   ]
  },
  {
   "cell_type": "code",
   "execution_count": 2,
   "metadata": {},
   "outputs": [],
   "source": [
    "f = open('hitler_speeches.txt','r')\n",
    "speeches = f.read()"
   ]
  },
  {
   "cell_type": "code",
   "execution_count": 3,
   "metadata": {},
   "outputs": [
    {
     "data": {
      "text/plain": [
       "'Munich, Gathering of the SA — Speech of November 9'"
      ]
     },
     "execution_count": 3,
     "metadata": {},
     "output_type": "execute_result"
    }
   ],
   "source": [
    "speeches[0:50]"
   ]
  },
  {
   "cell_type": "markdown",
   "metadata": {},
   "source": [
    "Creating Speech Generator using Markov Chain Model is based on Markov assumption that future is independent of the past and depends only on the present. During text generation, Markov chain generator uses current word or previous words depending on state size, here I have used state size of 3 so generator use previous 3 words to find the next one using transition probabilities. These transition probabilities are trained from the input text by calculating how frequently words follows other words. I have introduced similar Markov Chain & Language model concepts in my earlier blog post https://mohitatgithub.github.io/2018-04-03-Introduction-to-Language-Models/."
   ]
  },
  {
   "cell_type": "code",
   "execution_count": 4,
   "metadata": {},
   "outputs": [
    {
     "name": "stdout",
     "output_type": "stream",
     "text": [
      "Run time for training the generator : 0.21 seconds\n"
     ]
    }
   ],
   "source": [
    "start_time = time()\n",
    "speech_generator = markovify.Text(speeches, state_size=3)\n",
    "print(\"Run time for training the generator : {} seconds\".format(round(time()-start_time, 2)))"
   ]
  },
  {
   "cell_type": "markdown",
   "metadata": {},
   "source": [
    "Generating random speech fragments using generator"
   ]
  },
  {
   "cell_type": "code",
   "execution_count": 5,
   "metadata": {},
   "outputs": [
    {
     "name": "stdout",
     "output_type": "stream",
     "text": [
      "Surely, it is seldom that a political leader who had been trained in that sphere result in internationalism.\n",
      "None\n",
      "The road leading into the future with fanatical confidence.\n",
      "No power in the world.\n",
      "This Germany was in a position to adopt such a positive policy with regard to that which we heard read from the Polish local administrative officials and military authorities.\n"
     ]
    }
   ],
   "source": [
    "for i in range(5):\n",
    "    print(speech_generator.make_sentence())"
   ]
  },
  {
   "cell_type": "markdown",
   "metadata": {},
   "source": [
    "Generating random speech fragments with fixed length"
   ]
  },
  {
   "cell_type": "code",
   "execution_count": 6,
   "metadata": {},
   "outputs": [
    {
     "name": "stdout",
     "output_type": "stream",
     "text": [
      "Added to that was a sacred oath which I will keep so long as there has been far, far too little criticism.\n",
      "And, just as of old, I proclaimed that we should ever accept help from a bolshevist State.\n",
      "This demand does not take the form of food and raw materials.\n"
     ]
    }
   ],
   "source": [
    "for i in range(3):\n",
    "    print(speech_generator.make_short_sentence(140))"
   ]
  },
  {
   "cell_type": "markdown",
   "metadata": {},
   "source": [
    "#### Text Processing & Analysis\n",
    "This part is optional, here I have further analysed hilter speeches using nltk below"
   ]
  },
  {
   "cell_type": "markdown",
   "metadata": {},
   "source": [
    "Removing special characters"
   ]
  },
  {
   "cell_type": "code",
   "execution_count": 7,
   "metadata": {},
   "outputs": [],
   "source": [
    "speeches  = re.sub('[^A-Za-z0-9]+', ' ', speeches)"
   ]
  },
  {
   "cell_type": "markdown",
   "metadata": {},
   "source": [
    "Tokenization"
   ]
  },
  {
   "cell_type": "code",
   "execution_count": 8,
   "metadata": {},
   "outputs": [
    {
     "data": {
      "text/plain": [
       "['Munich',\n",
       " 'Gathering',\n",
       " 'of',\n",
       " 'the',\n",
       " 'SA',\n",
       " 'Speech',\n",
       " 'of',\n",
       " 'November',\n",
       " '9',\n",
       " '1921']"
      ]
     },
     "execution_count": 8,
     "metadata": {},
     "output_type": "execute_result"
    }
   ],
   "source": [
    "speeches = re.split(r'[ \\t\\n]+', speeches)\n",
    "speeches[0:10]"
   ]
  },
  {
   "cell_type": "markdown",
   "metadata": {},
   "source": [
    "Converting all words in same case before checking books vocabulary"
   ]
  },
  {
   "cell_type": "code",
   "execution_count": 9,
   "metadata": {},
   "outputs": [],
   "source": [
    "tokens = []\n",
    "for word in speeches:\n",
    "    tokens.append(word.lower())"
   ]
  },
  {
   "cell_type": "markdown",
   "metadata": {},
   "source": [
    "Checking Vocabulary of speeches"
   ]
  },
  {
   "cell_type": "code",
   "execution_count": 10,
   "metadata": {},
   "outputs": [
    {
     "data": {
      "text/plain": [
       "6926"
      ]
     },
     "execution_count": 10,
     "metadata": {},
     "output_type": "execute_result"
    }
   ],
   "source": [
    "vocab = set(tokens)\n",
    "len(vocab)"
   ]
  },
  {
   "cell_type": "markdown",
   "metadata": {},
   "source": [
    "Finding lexical richness of speeches"
   ]
  },
  {
   "cell_type": "code",
   "execution_count": 11,
   "metadata": {},
   "outputs": [
    {
     "data": {
      "text/plain": [
       "0.08037227005825423"
      ]
     },
     "execution_count": 11,
     "metadata": {},
     "output_type": "execute_result"
    }
   ],
   "source": [
    "len(set(tokens))/len(tokens)"
   ]
  },
  {
   "cell_type": "markdown",
   "metadata": {},
   "source": [
    "Coverting tokens to nltk text format"
   ]
  },
  {
   "cell_type": "code",
   "execution_count": 12,
   "metadata": {},
   "outputs": [
    {
     "data": {
      "text/plain": [
       "nltk.text.Text"
      ]
     },
     "execution_count": 12,
     "metadata": {},
     "output_type": "execute_result"
    }
   ],
   "source": [
    "text = nltk.Text(tokens)\n",
    "type(text)"
   ]
  },
  {
   "cell_type": "markdown",
   "metadata": {},
   "source": [
    "Removing Stop Words"
   ]
  },
  {
   "cell_type": "code",
   "execution_count": 13,
   "metadata": {},
   "outputs": [],
   "source": [
    "from nltk.corpus import stopwords\n",
    "\n",
    "stop_words = set(stopwords.words('english'))\n",
    "filtered_text = [w for w in tokens if not w in stop_words]"
   ]
  },
  {
   "cell_type": "markdown",
   "metadata": {},
   "source": [
    "Chekcing 50 most frequent words from hitler speeches"
   ]
  },
  {
   "cell_type": "code",
   "execution_count": 14,
   "metadata": {},
   "outputs": [
    {
     "data": {
      "text/plain": [
       "[('people', 584),\n",
       " ('german', 518),\n",
       " ('germany', 397),\n",
       " ('one', 356),\n",
       " ('world', 288),\n",
       " ('must', 262),\n",
       " ('war', 244),\n",
       " ('us', 243),\n",
       " ('state', 222),\n",
       " ('would', 215),\n",
       " ('time', 198),\n",
       " ('today', 183),\n",
       " ('life', 172),\n",
       " ('great', 171),\n",
       " ('years', 165),\n",
       " ('national', 161),\n",
       " ('nation', 151),\n",
       " ('reich', 143),\n",
       " ('economic', 140),\n",
       " ('first', 138),\n",
       " ('could', 134),\n",
       " ('also', 123),\n",
       " ('men', 120),\n",
       " ('two', 120),\n",
       " ('even', 118),\n",
       " ('know', 117),\n",
       " ('peace', 115),\n",
       " ('work', 114),\n",
       " ('say', 113),\n",
       " ('never', 112),\n",
       " ('whole', 112),\n",
       " ('government', 112),\n",
       " ('may', 110),\n",
       " ('made', 106),\n",
       " ('power', 103),\n",
       " ('peoples', 100),\n",
       " ('british', 99),\n",
       " ('every', 98),\n",
       " ('last', 95),\n",
       " ('new', 94),\n",
       " ('man', 94),\n",
       " ('right', 92),\n",
       " ('cannot', 91),\n",
       " ('upon', 90),\n",
       " ('nations', 88),\n",
       " ('come', 87),\n",
       " ('political', 85),\n",
       " ('nothing', 85),\n",
       " ('possible', 83),\n",
       " ('way', 83)]"
      ]
     },
     "execution_count": 14,
     "metadata": {},
     "output_type": "execute_result"
    }
   ],
   "source": [
    "from nltk import FreqDist\n",
    "\n",
    "filtered_text = nltk.Text(filtered_text)\n",
    "fd = FreqDist(filtered_text)\n",
    "fd.most_common(50)"
   ]
  },
  {
   "cell_type": "markdown",
   "metadata": {},
   "source": [
    "Checking dispersion plot for selected words in hitler speeches"
   ]
  },
  {
   "cell_type": "code",
   "execution_count": 15,
   "metadata": {},
   "outputs": [
    {
     "data": {
      "image/png": "[encoded data removed]",
      "text/plain": [
       "<matplotlib.figure.Figure at 0x7fe4c404fcf8>"
      ]
     },
     "metadata": {},
     "output_type": "display_data"
    }
   ],
   "source": [
    "text.dispersion_plot([\"war\",\"germany\", \"jew\", \"peace\", \"love\"])"
   ]
  },
  {
   "cell_type": "markdown",
   "metadata": {},
   "source": [
    "Plotting word frequency of most frequent words"
   ]
  },
  {
   "cell_type": "code",
   "execution_count": 16,
   "metadata": {},
   "outputs": [
    {
     "data": {
      "image/png": "[encoded data removed]",
      "text/plain": [
       "<matplotlib.figure.Figure at 0x7fe480ce7160>"
      ]
     },
     "metadata": {},
     "output_type": "display_data"
    }
   ],
   "source": [
    "fd.plot(35)"
   ]
  },
  {
   "cell_type": "markdown",
   "metadata": {},
   "source": [
    "Checking the context in which some of these frequent words appear"
   ]
  },
  {
   "cell_type": "code",
   "execution_count": 17,
   "metadata": {},
   "outputs": [
    {
     "name": "stdout",
     "output_type": "stream",
     "text": [
      "Displaying 25 of 244 matches:\n",
      "ious jews munich speech april 12 1922 war production begun thought better times\n",
      "es coming frederick great seven years war result superhuman efforts left prussi\n",
      " prussia without penny debt end world war germany burdened debt 7 8 milliards m\n",
      "n german fatherland three years waged war often death devil always german fathe\n",
      "kewarmness even fight existence world war still conclusion peace continuation h\n",
      " example mortal decay see reich today war two states germany france live side s\n",
      "rmany france live side side arms true war 1870 1 meant germany close enmity end\n",
      "ly enough cause finally america enter war germany outbreak world war judah desi\n",
      "rica enter war germany outbreak world war judah desired paassionately long larg\n",
      "pplying ammunitions supplied european war market extent perhaps even never drea\n",
      "national states could prevented world war kul tursolidaritat solidarity civiliz\n",
      "ny words interest workers germany win war could freemasons perhaps stop war nob\n",
      "win war could freemasons perhaps stop war noble philanthropic institutions fore\n",
      "nyone time principal leader promoting war freemasons distinguish two grades low\n",
      " hyena fighters tired go make harvest war revolutions jew attained unattainable\n",
      "ast german idealists thus judah world war would wish maintain french english am\n",
      "intain french english american people war one victors vanquished alike defeated\n",
      " master people guilt germany outbreak war guilt consisted moment ring closed ex\n",
      " 120 000 men battle marne would issue war decided two million fewer german hero\n",
      "ns hands german people 1912 last year war infatuated german people theory germa\n",
      "on whether expedient today talk guilt war assuredly duty talk murderers fatherl\n",
      "us lie refuse carry terms longer wish war go get shall see whether turn seventy\n",
      "rely unspeakable contempt knows guess war millions gold poured germany began ta\n",
      "france faced question realize eternal war aim means could france destroy german\n",
      "ings return germans perhaps dimly saw war individuals live joy hearts life mean\n"
     ]
    }
   ],
   "source": [
    "filtered_text.concordance(\"war\")"
   ]
  },
  {
   "cell_type": "code",
   "execution_count": 18,
   "metadata": {},
   "outputs": [
    {
     "name": "stdout",
     "output_type": "stream",
     "text": [
      "Displaying 25 of 397 matches:\n",
      "ia without penny debt end world war germany burdened debt 7 8 milliards marks b\n",
      "st world called reparations product germany work thus belonged nation foreign c\n",
      "ividual realize without disputation germany united free finally fail understand\n",
      "either right left two possibilities germany imagine people forever go middle pa\n",
      "ryans dark aborigines egypt rome us germany everyone german blood eyes speaks l\n",
      "w german bands flowing empire north germany collapses today come us german bloo\n",
      "g grow influence impossible history germany princes time time found forced bran\n",
      "scourge god see scourge threatening germany us people mad infatuation contribut\n",
      "ite defenseless face europe hostile germany europe hostile see europe peoples a\n",
      "on drives ruin driven masses people germany becoming political sphere completel\n",
      "evelopment goes time might possible germany light come destined light germany w\n",
      "e germany light come destined light germany world salvation point everlasting l\n",
      "pan german ask would probably state germany today three years criticism believe\n",
      " therefore one must build day comes germany reaching stage russia drunk lees on\n",
      "yet belong single party wherever go germany yes almost whole world find already\n",
      "r alles nothing world stands higher germany people land land people socialist p\n",
      "seless spirit two great aims abroad germany already humiliated state trembles e\n",
      "tain nation longer dangerous within germany seen arms taken away decent element\n",
      "st outstanding personalities within germany foresee coming disaster shall good \n",
      "time disappear end population north germany scourged opposition bavaria every l\n",
      "stiff necked folk berlin side whole germany millions millions germans whether p\n",
      " set cheka extraordinary commission germany may give free scope surrender jewis\n",
      "ter collapse nothingness rest reich germany needs today germany longs ardently \n",
      "ness rest reich germany needs today germany longs ardently symbol power strengt\n",
      "rely protection movement protection germany reviled insulted good luck boys goo\n"
     ]
    }
   ],
   "source": [
    "filtered_text.concordance(\"germany\")"
   ]
  },
  {
   "cell_type": "markdown",
   "metadata": {},
   "source": [
    "#### Refrences\n",
    "\n",
    "1. Markovify: https://github.com/jsvine/markovify\n",
    "2. NLTK: https://www.nltk.org/"
   ]
  },
  {
   "cell_type": "markdown",
   "metadata": {},
   "source": [
    "_Thanks for reading this notebook, In future I will integrate hitler speech generator model with telegram chatbot where we can actually have a conversation with hitler!_"
   ]
  }
 ],
 "metadata": {
  "kernelspec": {
   "display_name": "Python 3",
   "language": "python",
   "name": "python3"
  },
  "language_info": {
   "codemirror_mode": {
    "name": "ipython",
    "version": 3
   },
   "file_extension": ".py",
   "mimetype": "text/x-python",
   "name": "python",
   "nbconvert_exporter": "python",
   "pygments_lexer": "ipython3",
   "version": "3.6.0"
  }
 },
 "nbformat": 4,
 "nbformat_minor": 2
}
