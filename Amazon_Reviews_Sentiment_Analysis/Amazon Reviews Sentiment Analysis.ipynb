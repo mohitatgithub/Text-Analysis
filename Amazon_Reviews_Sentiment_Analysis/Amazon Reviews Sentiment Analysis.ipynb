{
 "cells": [
  {
   "cell_type": "markdown",
   "metadata": {},
   "source": [
    "## Amazon Reviews Sentiment Analysis with TextBlob"
   ]
  },
  {
   "cell_type": "code",
   "execution_count": 1,
   "metadata": {
    "collapsed": false
   },
   "outputs": [],
   "source": [
    "import json\n",
    "from textblob import TextBlob\n",
    "import pandas as pd\n",
    "import gzip"
   ]
  },
  {
   "cell_type": "markdown",
   "metadata": {},
   "source": [
    "### Data Extraction\n",
    "For this excercise I am using Amzon Kindle reviews dataset from http://jmcauley.ucsd.edu/data/amazon/. I have already downloaded & extracted json file in current directory"
   ]
  },
  {
   "cell_type": "code",
   "execution_count": 2,
   "metadata": {
    "collapsed": false
   },
   "outputs": [
    {
     "data": {
      "text/plain": [
       "[{'asin': 'B000F83SZQ',\n",
       "  'helpful': [0, 0],\n",
       "  'overall': 5.0,\n",
       "  'reviewText': \"I enjoy vintage books and movies so I enjoyed reading this book.  The plot was unusual.  Don't think killing someone in self-defense but leaving the scene and the body without notifying the police or hitting someone in the jaw to knock them out would wash today.Still it was a good read for me.\",\n",
       "  'reviewTime': '05 5, 2014',\n",
       "  'reviewerID': 'A1F6404F1VG29J',\n",
       "  'reviewerName': 'Avidreader',\n",
       "  'summary': 'Nice vintage story',\n",
       "  'unixReviewTime': 1399248000}]"
      ]
     },
     "execution_count": 2,
     "metadata": {},
     "output_type": "execute_result"
    }
   ],
   "source": [
    "#Load review data from json file\n",
    "reviews = []\n",
    "for line in open('reviews_Kindle_Store_5.json', 'r'):\n",
    "    reviews.append(json.loads(line))\n",
    "\n",
    "#Display first record\n",
    "reviews[:1]"
   ]
  },
  {
   "cell_type": "code",
   "execution_count": 3,
   "metadata": {
    "collapsed": false
   },
   "outputs": [
    {
     "data": {
      "text/plain": [
       "[\"I enjoy vintage books and movies so I enjoyed reading this book.  The plot was unusual.  Don't think killing someone in self-defense but leaving the scene and the body without notifying the police or hitting someone in the jaw to knock them out would wash today.Still it was a good read for me.\",\n",
       " \"This book is a reissue of an old one; the author was born in 1910. It's of the era of, say, Nero Wolfe. The introduction was quite interesting, explaining who the author was and why he's been forgotten; I'd never heard of him.The language is a little dated at times, like calling a gun a &#34;heater.&#34;  I also made good use of my Fire's dictionary to look up words like &#34;deshabille&#34; and &#34;Canarsie.&#34; Still, it was well worth a look-see.\",\n",
       " \"This was a fairly interesting read.  It had old- style terminology.I was glad to get  to read a story that doesn't have coarse, crasslanguage.  I read for fun and relaxation......I like the free ebooksbecause I can check out a writer and decide if they are intriguing,innovative, and have enough of the command of Englishthat they can convey the story without crude language.\",\n",
       " \"I'd never read any of the Amy Brewster mysteries until this one..  So I am really hooked on them now.\",\n",
       " 'If you like period pieces - clothing, lingo, you will enjoy this mystery.  Author had me guessing at least 2/3 of the way through.']"
      ]
     },
     "execution_count": 3,
     "metadata": {},
     "output_type": "execute_result"
    }
   ],
   "source": [
    "#Lets extract all reviews from this datset\n",
    "all_reviews = []\n",
    "\n",
    "for i in range(len(reviews)):\n",
    "    all_reviews.append(reviews[i]['reviewText'])\n",
    "\n",
    "#Display firt 5 extracted reviews\n",
    "all_reviews[:5]"
   ]
  },
  {
   "cell_type": "code",
   "execution_count": 4,
   "metadata": {
    "collapsed": false
   },
   "outputs": [
    {
     "data": {
      "text/plain": [
       "982619"
      ]
     },
     "execution_count": 4,
     "metadata": {},
     "output_type": "execute_result"
    }
   ],
   "source": [
    "#Lets count total number of reviews\n",
    "len(all_reviews)\n",
    "\n",
    "#We have naerly a million reviews on kindle"
   ]
  },
  {
   "cell_type": "markdown",
   "metadata": {},
   "source": [
    "### Analysing Review Sentiments using TextBlob"
   ]
  },
  {
   "cell_type": "code",
   "execution_count": 5,
   "metadata": {
    "collapsed": false
   },
   "outputs": [],
   "source": [
    "#Lets create a textblob object for a review text\n",
    "\n",
    "blob = TextBlob(all_reviews[1])"
   ]
  },
  {
   "cell_type": "code",
   "execution_count": 6,
   "metadata": {
    "collapsed": false
   },
   "outputs": [
    {
     "data": {
      "text/plain": [
       "Sentiment(polarity=0.2825, subjectivity=0.38)"
      ]
     },
     "execution_count": 6,
     "metadata": {},
     "output_type": "execute_result"
    }
   ],
   "source": [
    "#Lets check sentiment of this review\n",
    "\n",
    "blob.sentiment\n",
    "\n",
    "#This returns 2 numbers, but what are they?"
   ]
  },
  {
   "cell_type": "markdown",
   "metadata": {},
   "source": [
    "#### Whats Polarity & Subjectivity?\n",
    "\n",
    "#### Polarity: Polarity score is a float within the range [-1.0, 1.0], also known as orientation polarity is the emotion expressed in the sentence. It can be positive, neagtive or neutral.\n",
    "\n",
    "#### Subjectivity: It measures subjectivity of sentence or to what extent it represents someones personal feelings, views, or beliefs compared to objective truth or facts. subjectivity is a float within the range [0.0, 1.0] where 0.0 is very objective and 1.0 is very subjective."
   ]
  },
  {
   "cell_type": "code",
   "execution_count": 7,
   "metadata": {
    "collapsed": false
   },
   "outputs": [],
   "source": [
    "#Lets find review sentiment for each review similarly\n",
    "polarity_list,subjectivity_list=[],[]\n",
    "\n",
    "for i in range(len(all_reviews)):\n",
    "    blob = TextBlob(all_reviews[i])\n",
    "    polarity_list.append(blob.sentiment.polarity)\n",
    "    subjectivity_list.append(blob.sentiment.subjectivity)"
   ]
  },
  {
   "cell_type": "code",
   "execution_count": 8,
   "metadata": {
    "collapsed": true
   },
   "outputs": [],
   "source": [
    "#Building above lists takes a lot of time, lets save them as csv to save time in future\n",
    "polarity_df = pd.DataFrame(polarity_list, columns=[\"colummn\"])\n",
    "polarity_df.to_csv('polarity_list.csv', index=False)\n",
    "\n",
    "subjectivity_df = pd.DataFrame(subjectivity_list, columns=[\"colummn\"])\n",
    "subjectivity_df.to_csv('subjectivity_list.csv', index=False)"
   ]
  },
  {
   "cell_type": "code",
   "execution_count": 9,
   "metadata": {
    "collapsed": false
   },
   "outputs": [
    {
     "name": "stdout",
     "output_type": "stream",
     "text": [
      "[0.45, 0.2825, 0.13750000000000004, 0.2, 0.05000000000000002]\n",
      "[0.7000000000000001, 0.38, 0.5875, 0.2, 0.45]\n"
     ]
    }
   ],
   "source": [
    "#Checking few values from created lists\n",
    "print(polarity_list[:5])\n",
    "print(subjectivity_list[:5])"
   ]
  },
  {
   "cell_type": "code",
   "execution_count": 10,
   "metadata": {
    "collapsed": true
   },
   "outputs": [],
   "source": [
    "#Lets plot distribution of polarity\n",
    "import seaborn as sns\n",
    "sns.set(color_codes=True)\n",
    "from pylab import *"
   ]
  },
  {
   "cell_type": "code",
   "execution_count": 11,
   "metadata": {
    "collapsed": false
   },
   "outputs": [
    {
     "data": {
      "image/png": "[encoded data removed]",
      "text/plain": [
       "<matplotlib.figure.Figure at 0x7f9131c0bb38>"
      ]
     },
     "metadata": {},
     "output_type": "display_data"
    }
   ],
   "source": [
    "#Polarity Distribution\n",
    "sns.distplot(polarity_list)\n",
    "show()"
   ]
  },
  {
   "cell_type": "code",
   "execution_count": 12,
   "metadata": {
    "collapsed": false
   },
   "outputs": [
    {
     "data": {
      "image/png": "[encoded data removed]",
      "text/plain": [
       "<matplotlib.figure.Figure at 0x7f912a41bfd0>"
      ]
     },
     "metadata": {},
     "output_type": "display_data"
    }
   ],
   "source": [
    "#Subjectivity Distribution\n",
    "sns.distplot(subjectivity_list)\n",
    "show()"
   ]
  },
  {
   "cell_type": "code",
   "execution_count": 13,
   "metadata": {
    "collapsed": false
   },
   "outputs": [
    {
     "name": "stdout",
     "output_type": "stream",
     "text": [
      "DescribeResult(nobs=982619, minmax=(-1.0, 1.0), mean=0.2554416996022165, variance=0.03613085062383566, skewness=-0.0034846642680489612, kurtosis=1.966151107339833)\n",
      "DescribeResult(nobs=982619, minmax=(0.0, 1.0), mean=0.5485420019964269, variance=0.017758890024147884, skewness=-0.22705026370838458, kurtosis=1.817626935291675)\n"
     ]
    }
   ],
   "source": [
    "#Getting statistical summary of polarity & subjectivity\n",
    "from scipy import stats\n",
    "\n",
    "print(stats.describe(polarity_list))\n",
    "print(stats.describe(subjectivity_list))"
   ]
  },
  {
   "cell_type": "code",
   "execution_count": 14,
   "metadata": {
    "collapsed": false
   },
   "outputs": [
    {
     "name": "stdout",
     "output_type": "stream",
     "text": [
      "What can I say Stormtroopers.  A story with troopers is as awesome as a story with any Sith lord.  AWESOME!!!!!! \n",
      "\n",
      "At 1st, I didn't realize who the author was.  This is a wonderful finish to &#34;20,000 Leagues&#34;. Kept my interest. \n",
      "\n",
      "This is a very good story about the lives of orphans and the problems they encounter.  I recommend it and have read it a couple of times.  Well written. \n",
      "\n",
      "Excellent work from a great author. Well thought out and written series of books. And what a wonderful way to finish it. \n",
      "\n",
      "She did a wonderful job at turning the character of someone that I could not stand into someone I began to champion. \n",
      "\n",
      "Was a very good story I had started with the 4th one and then found the bundle, read one after the other,and reread the 4th one. Very good! \n",
      "\n",
      "I started reading Eve Vaughn books on Thursday. Since then I have four of books. Let me tell u they will grip you until the end. Awesome read. \n",
      "\n",
      "Great addition to the BDB series! I think J.R. Ward should do a follow-up book like this for Rhage as well. GREAT read! \n",
      "\n",
      "Zsadist being who he is and what has happened to him and then finding Bella and how she helps transform him into what we all know him to be.....loving. Their story was was of the best in the BDB books. \n",
      "\n",
      "As with the red/pink one of these i Have, works great to protect my Kindle, when not in use! Would buy again! \n",
      "\n"
     ]
    }
   ],
   "source": [
    "#Lets check few highly positive reviews with very high Polarity(>.9)\n",
    "c = 0\n",
    "for i in range(len(polarity_list)):\n",
    "    if(c>10): break\n",
    "    if(polarity_list[i]>.9 and c<10) :\n",
    "        print(all_reviews[i],\"\\n\")\n",
    "        c+=1"
   ]
  },
  {
   "cell_type": "code",
   "execution_count": 15,
   "metadata": {
    "collapsed": false
   },
   "outputs": [
    {
     "name": "stdout",
     "output_type": "stream",
     "text": [
      "It had never sunk in to me that these stories were so grim and horrid.  I thought I was getting a book of children's fairy tales that I could read to my grandchildren!  Be forewarned! \n",
      "\n",
      "This Is The Worse Book I Have Ever Read!!!! Oh my goodness, who edited this garbage? Ms. McCray please don't write anymore books. What an awful story! What an awful end! BLECH! \n",
      "\n",
      "i dont like it.its a waste of my time and money. i should of gotten something else. dont buy this it's terrible.boooooooooooooooooooooooooo!!!!!!!!!!!!!!!!!!! \n",
      "\n",
      "It was a truly horrible read, and I'm not talking about the story, but the language of the book. It sounded strained and unnatural. I don't recommend this story. \n",
      "\n",
      "God I hate books like this! Hate them! If I were reading this on paperback it would have been in shreds! This guy treats her like s#*t and yet whenever he touches her she just can't control herself. She's like a freakin' ally cat in heat. She has no pride! And he's an arrogant prick. Hate, hate, hate the characters! If I could have, I would have given this book a zero. \n",
      "\n",
      "BORING BORING BORING! I didn't even bother to finish it, and have deleted it from my Kindle. Not recommended at all! \n",
      "\n",
      "This is another book about the evil in this world.It also is a understanding of what goes through a child's mind and the despair they have.Highly recommend this if you are reading like to read about the unjust in this world. \n",
      "\n",
      "It was a awful book, it was  really boring. I didn't like it at all. It didn't have a story line \n",
      "\n",
      "so hated this book not my cup of tea amistake to get very nasty i do not talk alot nasty \n",
      "\n",
      "again, I have not read it, not even started it, so assume it is as boring as the rest of the books in the series \n",
      "\n"
     ]
    }
   ],
   "source": [
    "#Lets check few highly negative reviews with very high Polarity(<-.9)\n",
    "c = 0\n",
    "for i in range(len(polarity_list)):\n",
    "    if(c>10): break\n",
    "    if(polarity_list[i]<-.9 and c<10) :\n",
    "        print(all_reviews[i],\"\\n\")\n",
    "        c+=1"
   ]
  },
  {
   "cell_type": "code",
   "execution_count": 16,
   "metadata": {
    "collapsed": false
   },
   "outputs": [
    {
     "name": "stdout",
     "output_type": "stream",
     "text": [
      "What can I say Stormtroopers.  A story with troopers is as awesome as a story with any Sith lord.  AWESOME!!!!!! \n",
      "\n",
      "I have been a fan of Mark Twain ever since I found we share a birthday. I am glad I found this story. \n",
      "\n",
      "Though these be the tales of the brothers, the tales are incorrect.  These stories are happy tales while the tales written by the brothers were horrid and without a happy ending. \n",
      "\n",
      "It had never sunk in to me that these stories were so grim and horrid.  I thought I was getting a book of children's fairy tales that I could read to my grandchildren!  Be forewarned! \n",
      "\n",
      "am sorry ---- i accidentally deleted it from the kindle before i had time to check it out.  i apologize. \n",
      "\n",
      "At 1st, I didn't realize who the author was.  This is a wonderful finish to &#34;20,000 Leagues&#34;. Kept my interest. \n",
      "\n",
      "A group of men escape by balloon a Confederate prison and land on a deserted island where all their needs are met by a mysterious benefactor. \n",
      "\n",
      "Finally a Texas newspaper in Kindle format.Way to go Amazon !! \n",
      "\n",
      "Excellent work from a great author. Well thought out and written series of books. And what a wonderful way to finish it. \n",
      "\n",
      "I've never read McBain before and was disappointed that I found it boring.  I only read 27% when I gave up and switched to another author. \n",
      "\n"
     ]
    }
   ],
   "source": [
    "#Lets check few subjective reviews\n",
    "c = 0\n",
    "for i in range(len(subjectivity_list)):\n",
    "    if(c>10): break\n",
    "    if(subjectivity_list[i]>.9 and c<10) :\n",
    "        print(all_reviews[i],\"\\n\")\n",
    "        c+=1"
   ]
  },
  {
   "cell_type": "code",
   "execution_count": 17,
   "metadata": {
    "collapsed": false
   },
   "outputs": [
    {
     "name": "stdout",
     "output_type": "stream",
     "text": [
      "He doesn't need my recommendation but since you asked, unless you are into thorough reprobates, give it a miss.  As the wag once put it, Mark Twain shows promise. \n",
      "\n",
      "I  grew up considering Jules Verne and his contamparies as people with a scientific vision. But having read his work, including this one, I feel betrayed. These are racist people, believing in white man's superiority, which looks like a recurrent theme with bit of pseudoscience thrown in. Do not waste time. \n",
      "\n",
      "the is a story about man, life,working together for the betterment of all.the betterment of this group of man.the respect life,all things intended . \n",
      "\n",
      "I downloaded the Baltimore Catechism to do some research for a book I'm writing and for the memories of St. Mary's in Rockford, IL that I associate with it. It fully met both of those expectations.I will add that I never recieved five stars from any of the nuns for any reason. \n",
      "\n",
      "lose the war,lose your boat lose your girl(maybe).kind of an insight into the mentality of &#34;upper class germans&#34; & their take on things \n",
      "\n",
      "It was not like the in-print edition.  It was printed like a word document.  Not what I wanted.  I didn't want to pay for that. \n",
      "\n",
      "i would prefer to have images and ads.  but for the price difference it is a no brainer.  going to cancel print subscription.  save trees.  give the nation difference as a donation. \n",
      "\n",
      "Lost mines of King Solomon, found them, what next for Allan Quartermain.Quatermain and his friends return to Africa for their next adventure. \n",
      "\n",
      "i had the paperback of this series it keeps you reading i reread this book all the time it rocks \n",
      "\n",
      "I bought this book because I read it once before and I thought I'd like to read it again I like fantasy and I recommend this book for anyone that likes fantasy also \n",
      "\n"
     ]
    }
   ],
   "source": [
    "#Now lets check some objective reviews\n",
    "c = 0\n",
    "for i in range(len(subjectivity_list)):\n",
    "    if(c>10): break\n",
    "    if(subjectivity_list[i]<.1 and c<10) :\n",
    "        print(all_reviews[i],\"\\n\")\n",
    "        c+=1"
   ]
  },
  {
   "cell_type": "code",
   "execution_count": 18,
   "metadata": {
    "collapsed": false
   },
   "outputs": [
    {
     "name": "stdout",
     "output_type": "stream",
     "text": [
      "He doesn't need my recommendation but since you asked, unless you are into thorough reprobates, give it a miss.  As the wag once put it, Mark Twain shows promise. \n",
      "\n",
      "Not at all what I had expected. I was thinking it would be like the movie but was very pleasantly surprised. \n",
      "\n",
      "the is a story about man, life,working together for the betterment of all.the betterment of this group of man.the respect life,all things intended . \n",
      "\n",
      "A group of men escape by balloon a Confederate prison and land on a deserted island where all their needs are met by a mysterious benefactor. \n",
      "\n",
      "I downloaded the Baltimore Catechism to do some research for a book I'm writing and for the memories of St. Mary's in Rockford, IL that I associate with it. It fully met both of those expectations.I will add that I never recieved five stars from any of the nuns for any reason. \n",
      "\n",
      "just knowing the mythological background of our native inhabitants helps in understanding-not only those peoples, but ourselves and those around us.Thank you Amazon for providing this link to a part of history that should be known by all of us.120 words is not really enough to describe the wonderfulness of this book-well, I could go on and on \n",
      "\n",
      "lose the war,lose your boat lose your girl(maybe).kind of an insight into the mentality of &#34;upper class germans&#34; & their take on things \n",
      "\n",
      "Finally a Texas newspaper in Kindle format.Way to go Amazon !! \n",
      "\n",
      "It was not like the in-print edition.  It was printed like a word document.  Not what I wanted.  I didn't want to pay for that. \n",
      "\n",
      "I cannot imagine life without IHT. Sorry? 14 more words needed? How about a repeat? I cannot imagine life without IHT. \n",
      "\n"
     ]
    }
   ],
   "source": [
    "#Lets check some neutral reviews\n",
    "c = 0\n",
    "for i in range(len(polarity_list)):\n",
    "    if(c>10): break\n",
    "    if(polarity_list[i]==0 and c<10) :\n",
    "        print(all_reviews[i],\"\\n\")\n",
    "        c+=1"
   ]
  }
 ],
 "metadata": {
  "kernelspec": {
   "display_name": "Python 3",
   "language": "python",
   "name": "python3"
  },
  "language_info": {
   "codemirror_mode": {
    "name": "ipython",
    "version": 3
   },
   "file_extension": ".py",
   "mimetype": "text/x-python",
   "name": "python",
   "nbconvert_exporter": "python",
   "pygments_lexer": "ipython3",
   "version": "3.6.0"
  }
 },
 "nbformat": 4,
 "nbformat_minor": 2
}
